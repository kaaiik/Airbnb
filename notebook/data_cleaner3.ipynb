{
 "cells": [
  {
   "cell_type": "code",
   "execution_count": 1,
   "id": "26e13604",
   "metadata": {},
   "outputs": [],
   "source": [
    "import pandas as pd\n",
    "pd.set_option('display.max_columns', None)\n",
    "\n",
    "import numpy as np\n",
    "\n",
    "import warnings\n",
    "warnings.filterwarnings('ignore')\n",
    "\n",
    "import pylab as plt\n",
    "import seaborn as sns"
   ]
  },
  {
   "cell_type": "code",
   "execution_count": 2,
   "id": "339ac596",
   "metadata": {},
   "outputs": [
    {
     "data": {
      "text/plain": [
       "(4167, 74)"
      ]
     },
     "execution_count": 2,
     "metadata": {},
     "output_type": "execute_result"
    }
   ],
   "source": [
    "train = pd.read_csv('../data/train.csv')\n",
    "train.head(2)\n",
    "train.shape"
   ]
  },
  {
   "cell_type": "code",
   "execution_count": 3,
   "id": "fc53f511",
   "metadata": {},
   "outputs": [
    {
     "data": {
      "text/plain": [
       "(4167, 71)"
      ]
     },
     "execution_count": 3,
     "metadata": {},
     "output_type": "execute_result"
    }
   ],
   "source": [
    "# eliminamos las columnas que están con más del 50% de datos nulos\n",
    "cols = list(train.columns)\n",
    "elim = []\n",
    "\n",
    "for col in cols:\n",
    "    if sum(train[col].isnull()) > train.shape[0]*0.5:\n",
    "        train.drop(col, axis=1, inplace=True)\n",
    "        elim.append(col)\n",
    "        \n",
    "train.shape"
   ]
  },
  {
   "cell_type": "code",
   "execution_count": 4,
   "id": "ee94f55f",
   "metadata": {},
   "outputs": [
    {
     "data": {
      "text/plain": [
       "['host_total_listings_count',\n",
       " 'beds',\n",
       " 'minimum_minimum_nights',\n",
       " 'maximum_minimum_nights',\n",
       " 'minimum_nights_avg_ntm',\n",
       " 'maximum_nights_avg_ntm',\n",
       " 'availability_60',\n",
       " 'availability_90',\n",
       " 'number_of_reviews_l30d',\n",
       " 'review_scores_accuracy',\n",
       " 'reviews_per_month']"
      ]
     },
     "execution_count": 4,
     "metadata": {},
     "output_type": "execute_result"
    }
   ],
   "source": [
    "# eliminamos las columnas que estan correlacionadas\n",
    "\n",
    "# matriz con las correlaciones que guardan las columnas\n",
    "\n",
    "upper = train.corr().abs().where(np.triu(np.ones(train.corr().abs().shape), k=1).astype(np.bool))\n",
    "\n",
    "#lista de columnas que guardan correlacion elevada\n",
    "to_drop = [column for column in upper.columns if any(upper[column] > 0.8)]\n",
    "to_drop"
   ]
  },
  {
   "cell_type": "code",
   "execution_count": 5,
   "id": "18f3fe01",
   "metadata": {},
   "outputs": [
    {
     "data": {
      "text/plain": [
       "(4167, 60)"
      ]
     },
     "execution_count": 5,
     "metadata": {},
     "output_type": "execute_result"
    }
   ],
   "source": [
    "for drop in to_drop:\n",
    "    train.drop(drop, axis=1, inplace=True)\n",
    "train.shape"
   ]
  },
  {
   "cell_type": "code",
   "execution_count": 6,
   "id": "84faaac7",
   "metadata": {},
   "outputs": [
    {
     "name": "stdout",
     "output_type": "stream",
     "text": [
      "Number of NaN values removed: 257\n"
     ]
    }
   ],
   "source": [
    "# dropeamos las filas nulas de estas columnas\n",
    "\n",
    "original = len(train)\n",
    "to_null = ['property_type', 'bedrooms', 'bathrooms_text']\n",
    "\n",
    "df = train.dropna(subset=to_null, axis=0, how='any')\n",
    "    \n",
    "print('Number of NaN values removed:', original - len(df))"
   ]
  },
  {
   "cell_type": "code",
   "execution_count": 7,
   "id": "4dcef74d",
   "metadata": {},
   "outputs": [],
   "source": [
    "df.head(2)\n",
    "df.shape\n",
    "df.drop(['listing_url', 'name', 'description', 'amenities', 'picture_url','scrape_id'], axis=1, inplace=True)"
   ]
  },
  {
   "cell_type": "code",
   "execution_count": 8,
   "id": "227235c2",
   "metadata": {},
   "outputs": [],
   "source": [
    "df.to_csv('../data/traingordo1.csv')"
   ]
  },
  {
   "cell_type": "code",
   "execution_count": 9,
   "id": "cd1c75a9",
   "metadata": {},
   "outputs": [
    {
     "data": {
      "text/plain": [
       "(1389, 73)"
      ]
     },
     "execution_count": 9,
     "metadata": {},
     "output_type": "execute_result"
    }
   ],
   "source": [
    "test = pd.read_csv('../data/test.csv')\n",
    "test.head(2)\n",
    "test.shape"
   ]
  },
  {
   "cell_type": "code",
   "execution_count": 10,
   "id": "5667b102",
   "metadata": {},
   "outputs": [],
   "source": [
    "# eliminamos las columnas que están con más del 50% de datos nulos\n",
    "\n",
    "to_drop2 = to_drop + elim +['listing_url', 'name', 'description', 'amenities', 'picture_url','scrape_id']\n",
    "\n",
    "for col in to_drop2:\n",
    "    test.drop(col, axis=1, inplace =True)"
   ]
  },
  {
   "cell_type": "code",
   "execution_count": 11,
   "id": "79d64877",
   "metadata": {},
   "outputs": [
    {
     "data": {
      "text/plain": [
       "(1389, 53)"
      ]
     },
     "execution_count": 11,
     "metadata": {},
     "output_type": "execute_result"
    }
   ],
   "source": [
    "test.shape"
   ]
  },
  {
   "cell_type": "code",
   "execution_count": 12,
   "id": "e7243f32",
   "metadata": {},
   "outputs": [],
   "source": [
    "test.to_csv('../data/testgordo.csv')"
   ]
  },
  {
   "cell_type": "code",
   "execution_count": null,
   "id": "3e010333",
   "metadata": {},
   "outputs": [],
   "source": []
  }
 ],
 "metadata": {
  "kernelspec": {
   "display_name": "Python 3 (ipykernel)",
   "language": "python",
   "name": "python3"
  },
  "language_info": {
   "codemirror_mode": {
    "name": "ipython",
    "version": 3
   },
   "file_extension": ".py",
   "mimetype": "text/x-python",
   "name": "python",
   "nbconvert_exporter": "python",
   "pygments_lexer": "ipython3",
   "version": "3.9.7"
  }
 },
 "nbformat": 4,
 "nbformat_minor": 5
}
